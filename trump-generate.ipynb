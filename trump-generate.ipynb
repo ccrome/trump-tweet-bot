{
 "cells": [
  {
   "cell_type": "markdown",
   "metadata": {},
   "source": [
    "# Useless Trump Tweet Generator\n",
    "This generates tweets from the pre-trained model from trump-train.ipynb"
   ]
  },
  {
   "cell_type": "code",
   "execution_count": 4,
   "metadata": {
    "collapsed": false
   },
   "outputs": [
    {
     "name": "stderr",
     "output_type": "stream",
     "text": [
      "Using Theano backend.\n",
      "Using gpu device 0: Tesla K80 (CNMeM is enabled with initial size: 95.0% of memory, cuDNN 5105)\n",
      "/home/ubuntu/anaconda2/lib/python2.7/site-packages/theano/sandbox/cuda/__init__.py:600: UserWarning: Your cuDNN version is more recent than the one Theano officially supports. If you see any problems, try updating Theano or downgrading cuDNN to version 5.\n",
      "  warnings.warn(warn)\n",
      "/home/ubuntu/anaconda2/lib/python2.7/site-packages/keras/engine/topology.py:368: UserWarning: The `regularizers` property of layers/models is deprecated. Regularization losses are now managed via the `losses` layer/model property.\n",
      "  warnings.warn('The `regularizers` property of '\n"
     ]
    }
   ],
   "source": [
    "import keras\n",
    "import numpy as np\n",
    "from keras.optimizers import Adam\n",
    "import pickle\n",
    "from numpy.random import choice\n",
    "\n",
    "# Load up the pre-trained model\n",
    "x = open(\"data/trump_model.json\").read()\n",
    "model = keras.models.model_from_json(x)\n",
    "model.load_weights(\"data/trump_final_data.h5\")\n",
    "model.compile(loss='sparse_categorical_crossentropy', optimizer=Adam())\n",
    "\n",
    "\n"
   ]
  },
  {
   "cell_type": "code",
   "execution_count": 13,
   "metadata": {
    "collapsed": false
   },
   "outputs": [],
   "source": [
    "# load up the char indexes (indicies)\n",
    "char_indices = pickle.load(open(\"data/trump_char_indices.pkl\"))\n",
    "indices_char = pickle.load(open(\"data/trump_indices_char.pkl\"))\n",
    "chars = pickle.load(open(\"data/trump_chars.pkl\"))\n",
    "\n",
    "def print_example():\n",
    "    seed_string=\"ethics is a basic foundation of all that\"\n",
    "    for i in range(2000):\n",
    "        x=np.array([char_indices[c] for c in seed_string[-40:]])[np.newaxis,:]\n",
    "        preds = model.predict(x, verbose=0)[0][-1]\n",
    "        preds = preds/np.sum(preds)\n",
    "        next_char = choice(chars, p=preds)\n",
    "        seed_string = seed_string + next_char\n",
    "    t = seed_string[40:].split(\"\\n\")\n",
    "    return t[1:]\n"
   ]
  },
  {
   "cell_type": "code",
   "execution_count": 14,
   "metadata": {
    "collapsed": false
   },
   "outputs": [],
   "source": [
    "tweets = print_example()"
   ]
  },
  {
   "cell_type": "code",
   "execution_count": 16,
   "metadata": {
    "collapsed": false
   },
   "outputs": [
    {
     "name": "stdout",
     "output_type": "stream",
     "text": [
      "A don't even close that 'ow be all over no longer campaign with you needs walls of business money Clinton wants to the news of the United States Trump & how they want policy. All with winning the BIP not true.\n",
      "\n",
      "Great rated conference. We need you birthday!\n",
      "\n",
      "My daughter, thank you & I will change and the other jobs, which said RACE STATED we are presidential 2015. Thank you!\n",
      "\n",
      "\"@Csnbe old ads on the interview with Bill Clinton called a down!\"\n",
      "\n",
      "\"@hamaCfoxuer: @mandeaturder \n",
      "\n",
      "Watch off Trump Just Delegates about America are _BarparoCoders of the pleise. You have the winner! Will go back for your enaiust for prefia are a #GOPinal in\"\n",
      "\n",
      "\"@kevank: @realDonaldTrump https://t.co/lZykN9YL4x\"\n",
      "\n",
      "The wrong against Ted Cruz victory.\n",
      "\n",
      "Great night in Gaughing to Believe Cruz is fraid at the record speech at all! While In 2016 has so important candidates goal! #VoteTrump https://t.co/ouXgQg5JCG\n",
      "\n",
      "Lyin' Ted Cruz fight now when the shooting the U.S. We need Republican Romney almost this. China who had low enthusiasm is a terrible support this mich fpeech in great speech  they lie!\n",
      "\n",
      "Thank you to the dishonest, not know headline would be an ideas. She was they say that you do what the tot control of the more for my war in~~~\n",
      "\n",
      "Join me in Halsh Bubifa, just was despare. He is a speech, She wouldn't agment a primary!\"\n",
      "\n",
      "\"@falnykire: Trump started everyone is Utimes for two polls like to say it strong. Sa touch in his chance.. Not check to Donald Trump will be there! #MakeAmericaGreatAgain. \n",
      "\n",
      "I was a fantastic crowd. See you soon. Keep up the same!\n",
      "\n",
      "\"@Eshaszun_LuffHs: DonaldTrump Like I was will bring open Hillary Clinton has done a time for talking about my family of @MenezureMank + -- problem for her economy!\n",
      "\n",
      "Entreproneurs: Congratulations to @IlL today in Colorado Inside Senator tonight at 9:30pm on @Morning_Joe Border we need you at the great p\n"
     ]
    }
   ],
   "source": [
    "print \"\\n\\n\".join(tweets)"
   ]
  },
  {
   "cell_type": "code",
   "execution_count": null,
   "metadata": {
    "collapsed": true
   },
   "outputs": [],
   "source": []
  }
 ],
 "metadata": {
  "anaconda-cloud": {},
  "kernelspec": {
   "display_name": "Python [default]",
   "language": "python",
   "name": "python2"
  },
  "language_info": {
   "codemirror_mode": {
    "name": "ipython",
    "version": 2
   },
   "file_extension": ".py",
   "mimetype": "text/x-python",
   "name": "python",
   "nbconvert_exporter": "python",
   "pygments_lexer": "ipython2",
   "version": "2.7.12"
  }
 },
 "nbformat": 4,
 "nbformat_minor": 1
}
